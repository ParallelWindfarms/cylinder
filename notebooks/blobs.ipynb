{
 "cells": [
  {
   "cell_type": "code",
   "execution_count": 12,
   "metadata": {},
   "outputs": [],
   "source": [
    "import numpy as np\n",
    "from typing import NamedTuple\n",
    "from pathlib import Path\n",
    "from uuid import uuid4\n",
    "from shutil import copytree\n",
    "\n",
    "from PyFoam.RunDictionary.ParsedParameterFile import ParsedParameterFile\n",
    "from PyFoam.RunDictionary.SolutionDirectory import SolutionDirectory"
   ]
  },
  {
   "cell_type": "code",
   "execution_count": 74,
   "metadata": {},
   "outputs": [],
   "source": [
    "def solution_directory(case):\n",
    "    return SolutionDirectory(case.path)\n",
    "\n",
    "\n",
    "def parameter_file(case, relative_path):\n",
    "    return ParsedParameterFile(case.path / relative_path)\n",
    "\n",
    "\n",
    "class BaseCase(NamedTuple):\n",
    "    \"\"\"Base case is a cleaned version of the system. If it contains any fields,\n",
    "    it will only be the `0` time. Any field that is copied for manipulation will\n",
    "    do so on top of an available base case in the `0` slot.\"\"\"\n",
    "    root: Path\n",
    "    case: str\n",
    "    \n",
    "    @property\n",
    "    def path(self):\n",
    "        return self.root / self.case\n",
    "    \n",
    "    def new_vector(self, name=None):\n",
    "        \"\"\"Creates new `Vector` using this base case.\"\"\"\n",
    "        new_case = name or uuid4().hex\n",
    "        new_path = self.root / new_case\n",
    "        if not new_path.exists():\n",
    "            copytree(self.path, new_path)\n",
    "        return Vector(self, new_case, 0)\n",
    "\n",
    "\n",
    "class Vector(NamedTuple):\n",
    "    base: BaseCase\n",
    "    case: str\n",
    "    time: int\n",
    "    \n",
    "    @property\n",
    "    def path(self):\n",
    "        return self.base.root / self.case"
   ]
  },
  {
   "cell_type": "code",
   "execution_count": 81,
   "metadata": {},
   "outputs": [],
   "source": [
    "blob_base = BaseCase(Path(\"./blob\"), \"baseCase\")\n",
    "a = blob_base.new_vector(\"a\")\n",
    "b = blob_base.new_vector(\"b\")"
   ]
  },
  {
   "cell_type": "code",
   "execution_count": 82,
   "metadata": {},
   "outputs": [],
   "source": [
    "x = parameter_file(a, \"system/setFieldsDict\")\n",
    "y = parameter_file(b, \"system/setFieldsDict\")"
   ]
  },
  {
   "cell_type": "code",
   "execution_count": 83,
   "metadata": {},
   "outputs": [],
   "source": [
    "x['regions'][1]['centre'][0] = 3\n",
    "y['regions'][1]['centre'][0] = 7"
   ]
  },
  {
   "cell_type": "code",
   "execution_count": 84,
   "metadata": {},
   "outputs": [],
   "source": [
    "x.writeFile()\n",
    "y.writeFile()"
   ]
  },
  {
   "cell_type": "code",
   "execution_count": null,
   "metadata": {},
   "outputs": [],
   "source": []
  },
  {
   "cell_type": "code",
   "execution_count": null,
   "metadata": {},
   "outputs": [],
   "source": []
  }
 ],
 "metadata": {
  "kernelspec": {
   "display_name": "Python 3",
   "language": "python",
   "name": "python3"
  },
  "language_info": {
   "codemirror_mode": {
    "name": "ipython",
    "version": 3
   },
   "file_extension": ".py",
   "mimetype": "text/x-python",
   "name": "python",
   "nbconvert_exporter": "python",
   "pygments_lexer": "ipython3",
   "version": "3.7.3"
  }
 },
 "nbformat": 4,
 "nbformat_minor": 2
}
